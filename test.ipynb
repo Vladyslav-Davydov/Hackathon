{
 "cells": [
  {
   "cell_type": "code",
   "execution_count": 7,
   "metadata": {},
   "outputs": [],
   "source": [
    "import numpy as np\n",
    "import pandas as pd\n",
    "from catboost import CatBoostClassifier, Pool\n",
    "from sklearn.metrics import roc_auc_score\n",
    "from sklearn.model_selection import train_test_split"
   ]
  },
  {
   "cell_type": "code",
   "execution_count": 8,
   "metadata": {},
   "outputs": [],
   "source": [
    "# Параметры для CatBoostClassifier\n",
    "params = {\n",
    "    'iterations': 500,             \n",
    "    'learning_rate': 0.1,         \n",
    "    'depth': 6,                  \n",
    "    'verbose': 100,              \n",
    "    'random_seed': 42,\n",
    "    'thread_count': -1,          \n",
    "    'early_stopping_rounds': 50    \n",
    "}"
   ]
  },
  {
   "cell_type": "code",
   "execution_count": 9,
   "metadata": {},
   "outputs": [],
   "source": [
    "# Загрузка данных из файлов\n",
    "train_df = pd.read_parquet(\"train_data.pqt\")\n",
    "test_df = pd.read_parquet(\"test_data.pqt\")"
   ]
  },
  {
   "cell_type": "code",
   "execution_count": 10,
   "metadata": {},
   "outputs": [],
   "source": [
    "# Список категориальных признаков\n",
    "cat_cols = [\n",
    "    \"channel_code\", \"city\", \"city_type\",\n",
    "    \"okved\", \"segment\", \"start_cluster\",\n",
    "    \"index_city_code\", \"ogrn_month\", \"ogrn_year\",\n",
    "]\n",
    "# Преобразование категориальных признаков в строки\n",
    "for col in cat_cols:\n",
    "    train_df[col] = train_df[col].astype(str)\n",
    "    test_df[col] = test_df[col].astype(str)\n",
    "\n",
    "# Разделение признаков и целевой переменной в обучающем наборе данных\n",
    "X = train_df.drop([\"id\", \"date\", \"end_cluster\"], axis=1)\n",
    "y = train_df[\"end_cluster\"]\n",
    "\n",
    "# Разделение данных на обучающую и валидационную выборки\n",
    "x_train, x_val, y_train, y_val = train_test_split(X, y, test_size=0.2, random_state=42)"
   ]
  },
  {
   "cell_type": "code",
   "execution_count": null,
   "metadata": {},
   "outputs": [],
   "source": [
    "# Создание и настройка модели CatBoostClassifier\n",
    "model = CatBoostClassifier(**params)\n",
    "\n",
    "train_pool = Pool(x_train, y_train, cat_features=cat_cols)\n",
    "val_pool = Pool(x_val, y_val, cat_features=cat_cols)\n",
    "\n",
    "model.fit(train_pool, eval_set=val_pool, plot=True)  "
   ]
  },
  {
   "cell_type": "code",
   "execution_count": null,
   "metadata": {},
   "outputs": [],
   "source": [
    "# Функция для вычисления ROC AUC\n",
    "def weighted_roc_auc(y_true, y_pred, labels, weights_dict):\n",
    "    unnorm_weights = np.array([weights_dict[label] for label in labels])\n",
    "    weights = unnorm_weights / unnorm_weights.sum()\n",
    "    classes_roc_auc = roc_auc_score(y_true, y_pred, labels=labels,\n",
    "                                    multi_class=\"ovr\", average=None)\n",
    "    return sum(weights * classes_roc_auc)"
   ]
  },
  {
   "cell_type": "code",
   "execution_count": null,
   "metadata": {},
   "outputs": [],
   "source": [
    "# Загрузка весов кластеров\n",
    "cluster_weights = pd.read_excel(\"cluster_weights.xlsx\").set_index(\"cluster\")\n",
    "weights_dict = cluster_weights[\"unnorm_weight\"].to_dict()"
   ]
  },
  {
   "cell_type": "code",
   "execution_count": null,
   "metadata": {},
   "outputs": [
    {
     "data": {
      "text/plain": [
       "0.9659211303195099"
      ]
     },
     "execution_count": 12,
     "metadata": {},
     "output_type": "execute_result"
    }
   ],
   "source": [
    "# Получение вероятностей предсказаний для валидационной выборки\n",
    "y_pred_proba = model.predict_proba(x_val)\n",
    "y_pred_proba.shape\n",
    "\n",
    "# Вычисление взвешенного ROC AUC для валидационной выборки\n",
    "weighted_roc_auc(y_val, y_pred_proba, model.classes_, weights_dict)"
   ]
  },
  {
   "cell_type": "code",
   "execution_count": null,
   "metadata": {},
   "outputs": [],
   "source": [
    "# Заполнение столбца start_cluster в тестовом наборе данных модальным значением из обучающего набора данных\n",
    "test_df[\"start_cluster\"] = train_df[\"start_cluster\"].mode()[0]\n",
    "test_df[\"start_cluster\"] = test_df[\"start_cluster\"].astype(\"category\")"
   ]
  },
  {
   "cell_type": "code",
   "execution_count": null,
   "metadata": {},
   "outputs": [],
   "source": [
    "# Загрузка файла шаблона для отправки результатов\n",
    "sample_submission_df = pd.read_csv(\"sample_submission.csv\")"
   ]
  },
  {
   "cell_type": "code",
   "execution_count": null,
   "metadata": {},
   "outputs": [],
   "source": [
    "# Фильтрация данных тестового набора для последнего месяца\n",
    "last_m_test_df = test_df[test_df[\"date\"] == \"month_6\"]\n",
    "last_m_test_df = last_m_test_df.drop([\"id\", \"date\"], axis=1)"
   ]
  },
  {
   "cell_type": "code",
   "execution_count": null,
   "metadata": {},
   "outputs": [],
   "source": [
    "# Получение вероятностей предсказаний для данных последнего месяца\n",
    "test_pred_proba = model.predict_proba(last_m_test_df)\n",
    "test_pred_proba_df = pd.DataFrame(test_pred_proba, columns=model.classes_)\n",
    "\n",
    "# Сортировка столбцов предсказаний в алфавитном порядке\n",
    "sorted_classes = sorted(test_pred_proba_df.columns.to_list())\n",
    "test_pred_proba_df = test_pred_proba_df[sorted_classes]"
   ]
  },
  {
   "cell_type": "code",
   "execution_count": null,
   "metadata": {},
   "outputs": [
    {
     "data": {
      "text/html": [
       "<div>\n",
       "<style scoped>\n",
       "    .dataframe tbody tr th:only-of-type {\n",
       "        vertical-align: middle;\n",
       "    }\n",
       "\n",
       "    .dataframe tbody tr th {\n",
       "        vertical-align: top;\n",
       "    }\n",
       "\n",
       "    .dataframe thead th {\n",
       "        text-align: right;\n",
       "    }\n",
       "</style>\n",
       "<table border=\"1\" class=\"dataframe\">\n",
       "  <thead>\n",
       "    <tr style=\"text-align: right;\">\n",
       "      <th></th>\n",
       "      <th>{other}</th>\n",
       "      <th>{}</th>\n",
       "      <th>{α, β}</th>\n",
       "      <th>{α, γ}</th>\n",
       "      <th>{α, δ}</th>\n",
       "      <th>{α, ε, η}</th>\n",
       "      <th>{α, ε, θ}</th>\n",
       "      <th>{α, ε, ψ}</th>\n",
       "      <th>{α, ε}</th>\n",
       "      <th>{α, η}</th>\n",
       "      <th>{α, θ}</th>\n",
       "      <th>{α, λ}</th>\n",
       "      <th>{α, μ}</th>\n",
       "      <th>{α, π}</th>\n",
       "      <th>{α, ψ}</th>\n",
       "      <th>{α}</th>\n",
       "      <th>{λ}</th>\n",
       "    </tr>\n",
       "  </thead>\n",
       "  <tbody>\n",
       "    <tr>\n",
       "      <th>0</th>\n",
       "      <td>0.011003</td>\n",
       "      <td>0.028593</td>\n",
       "      <td>0.018889</td>\n",
       "      <td>0.020912</td>\n",
       "      <td>0.005991</td>\n",
       "      <td>0.00034</td>\n",
       "      <td>0.002162</td>\n",
       "      <td>0.000738</td>\n",
       "      <td>0.018240</td>\n",
       "      <td>0.006183</td>\n",
       "      <td>0.018691</td>\n",
       "      <td>0.000465</td>\n",
       "      <td>0.002234</td>\n",
       "      <td>0.000011</td>\n",
       "      <td>0.003691</td>\n",
       "      <td>0.861849</td>\n",
       "      <td>0.000007</td>\n",
       "    </tr>\n",
       "    <tr>\n",
       "      <th>1</th>\n",
       "      <td>0.012663</td>\n",
       "      <td>0.519620</td>\n",
       "      <td>0.000964</td>\n",
       "      <td>0.003128</td>\n",
       "      <td>0.000671</td>\n",
       "      <td>0.00028</td>\n",
       "      <td>0.000862</td>\n",
       "      <td>0.000064</td>\n",
       "      <td>0.003343</td>\n",
       "      <td>0.021955</td>\n",
       "      <td>0.003699</td>\n",
       "      <td>0.000340</td>\n",
       "      <td>0.001407</td>\n",
       "      <td>0.000002</td>\n",
       "      <td>0.001209</td>\n",
       "      <td>0.429600</td>\n",
       "      <td>0.000192</td>\n",
       "    </tr>\n",
       "  </tbody>\n",
       "</table>\n",
       "</div>"
      ],
      "text/plain": [
       "    {other}        {}    {α, β}    {α, γ}    {α, δ}  {α, ε, η}  {α, ε, θ}  \\\n",
       "0  0.011003  0.028593  0.018889  0.020912  0.005991    0.00034   0.002162   \n",
       "1  0.012663  0.519620  0.000964  0.003128  0.000671    0.00028   0.000862   \n",
       "\n",
       "   {α, ε, ψ}    {α, ε}    {α, η}    {α, θ}    {α, λ}    {α, μ}    {α, π}  \\\n",
       "0   0.000738  0.018240  0.006183  0.018691  0.000465  0.002234  0.000011   \n",
       "1   0.000064  0.003343  0.021955  0.003699  0.000340  0.001407  0.000002   \n",
       "\n",
       "     {α, ψ}       {α}       {λ}  \n",
       "0  0.003691  0.861849  0.000007  \n",
       "1  0.001209  0.429600  0.000192  "
      ]
     },
     "execution_count": 20,
     "metadata": {},
     "output_type": "execute_result"
    }
   ],
   "source": [
    "# Вывод первых двух строк предсказаний для проверки\n",
    "test_pred_proba_df.head(2)"
   ]
  },
  {
   "cell_type": "code",
   "execution_count": null,
   "metadata": {},
   "outputs": [],
   "source": [
    "# Заполнение файла шаблона предсказаниями и сохранение результата в CSV файл\n",
    "sample_submission_df[sorted_classes] = test_pred_proba_df\n",
    "sample_submission_df.to_csv(\"test/test.csv\", index=False)"
   ]
  }
 ],
 "metadata": {
  "kernelspec": {
   "display_name": "Python 3",
   "language": "python",
   "name": "python3"
  },
  "language_info": {
   "codemirror_mode": {
    "name": "ipython",
    "version": 3
   },
   "file_extension": ".py",
   "mimetype": "text/x-python",
   "name": "python",
   "nbconvert_exporter": "python",
   "pygments_lexer": "ipython3",
   "version": "3.12.3"
  }
 },
 "nbformat": 4,
 "nbformat_minor": 2
}
